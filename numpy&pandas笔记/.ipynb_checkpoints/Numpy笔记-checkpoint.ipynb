{
 "cells": [
  {
   "cell_type": "markdown",
   "metadata": {},
   "source": [
    "# Numpy笔记\n",
    "  numpy是用于矩阵运算的python模块\n",
    "## 导入numpy"
   ]
  },
  {
   "cell_type": "code",
   "execution_count": 1,
   "metadata": {},
   "outputs": [],
   "source": [
    "import numpy as np"
   ]
  },
  {
   "cell_type": "markdown",
   "metadata": {},
   "source": [
    "## 创建矩阵&数组"
   ]
  },
  {
   "cell_type": "code",
   "execution_count": 27,
   "metadata": {},
   "outputs": [
    {
     "name": "stdout",
     "output_type": "stream",
     "text": [
      "[[1 2 3]\n",
      " [2 3 4]\n",
      " [7 8 5]]\n"
     ]
    }
   ],
   "source": [
    "array = np.array([[1, 2, 3],\n",
    "                  [2, 3, 4],\n",
    "                  [7, 8, 5]])\n",
    "print(array)"
   ]
  },
  {
   "cell_type": "markdown",
   "metadata": {},
   "source": [
    "### 矩阵维度"
   ]
  },
  {
   "cell_type": "code",
   "execution_count": 28,
   "metadata": {},
   "outputs": [
    {
     "name": "stdout",
     "output_type": "stream",
     "text": [
      "number of dim: 2\n"
     ]
    }
   ],
   "source": [
    "print('number of dim:', array.ndim)#维度"
   ]
  },
  {
   "cell_type": "markdown",
   "metadata": {},
   "source": [
    "### 矩阵行列数"
   ]
  },
  {
   "cell_type": "code",
   "execution_count": 29,
   "metadata": {},
   "outputs": [
    {
     "name": "stdout",
     "output_type": "stream",
     "text": [
      "shape: (3, 3)\n",
      "matrix's row is: 3 ; columns is: 3\n"
     ]
    }
   ],
   "source": [
    "print('shape:', array.shape)\n",
    "print('matrix\\'s row is:', array.shape[0], '; columns is:', array.shape[1])"
   ]
  },
  {
   "cell_type": "markdown",
   "metadata": {},
   "source": [
    "### 矩阵元素个数"
   ]
  },
  {
   "cell_type": "code",
   "execution_count": 30,
   "metadata": {},
   "outputs": [
    {
     "name": "stdout",
     "output_type": "stream",
     "text": [
      "size: 9\n"
     ]
    }
   ],
   "source": [
    "print('size:', array.size)"
   ]
  },
  {
   "cell_type": "markdown",
   "metadata": {},
   "source": [
    "### 生成全为0的矩阵"
   ]
  },
  {
   "cell_type": "code",
   "execution_count": 33,
   "metadata": {},
   "outputs": [
    {
     "name": "stdout",
     "output_type": "stream",
     "text": [
      "[[0. 0. 0. 0.]\n",
      " [0. 0. 0. 0.]\n",
      " [0. 0. 0. 0.]]\n"
     ]
    }
   ],
   "source": [
    "zero_a = np.zeros((3, 4)) #生成 3 行 4 列的 0 矩阵\n",
    "print(zero_a)"
   ]
  },
  {
   "cell_type": "markdown",
   "metadata": {},
   "source": [
    "### 生成元素全部为 1 的矩阵"
   ]
  },
  {
   "cell_type": "code",
   "execution_count": 36,
   "metadata": {},
   "outputs": [
    {
     "name": "stdout",
     "output_type": "stream",
     "text": [
      "[[1 1 1 1]\n",
      " [1 1 1 1]\n",
      " [1 1 1 1]]\n"
     ]
    }
   ],
   "source": [
    "zero_a = np.ones((3, 4), dtype = np.int16) #生成 3 行 4 列的元素全为 1 矩阵\n",
    "print(zero_a)"
   ]
  },
  {
   "cell_type": "markdown",
   "metadata": {},
   "source": [
    "### 生成一个初始化矩阵"
   ]
  },
  {
   "cell_type": "code",
   "execution_count": 39,
   "metadata": {},
   "outputs": [
    {
     "name": "stdout",
     "output_type": "stream",
     "text": [
      "[[0. 0. 0. 0.]\n",
      " [0. 0. 0. 0.]\n",
      " [0. 0. 0. 0.]]\n"
     ]
    }
   ],
   "source": [
    "init_a = np.empty((3,4))\n",
    "print(init_a)"
   ]
  },
  {
   "cell_type": "markdown",
   "metadata": {},
   "source": [
    "### 初始化一个递增矩阵"
   ]
  },
  {
   "cell_type": "code",
   "execution_count": 41,
   "metadata": {},
   "outputs": [
    {
     "name": "stdout",
     "output_type": "stream",
     "text": [
      "[10 12 14 16 18]\n",
      "\n",
      "\n",
      "[[ 0  1  2  3]\n",
      " [ 4  5  6  7]\n",
      " [ 8  9 10 11]]\n"
     ]
    }
   ],
   "source": [
    "incr_a = np.arange(10, 20, 2)\n",
    "print(incr_a)\n",
    "print('\\n')\n",
    "incr_a1 = np.arange(12).reshape((3,4))\n",
    "print(incr_a1)"
   ]
  },
  {
   "cell_type": "markdown",
   "metadata": {},
   "source": [
    "### 生成线性矩阵"
   ]
  },
  {
   "cell_type": "code",
   "execution_count": 44,
   "metadata": {},
   "outputs": [
    {
     "name": "stdout",
     "output_type": "stream",
     "text": [
      "[ 1.   2.8  4.6  6.4  8.2 10. ]\n",
      "[[ 1.   2.8  4.6]\n",
      " [ 6.4  8.2 10. ]]\n"
     ]
    }
   ],
   "source": [
    "line_a = np.linspace(1,10,6)\n",
    "print(line_a)\n",
    "line_b = np.linspace(1,10,6).reshape((2,3))\n",
    "print(line_b)"
   ]
  },
  {
   "cell_type": "markdown",
   "metadata": {},
   "source": [
    "## 定义数据类型 "
   ]
  },
  {
   "cell_type": "code",
   "execution_count": 31,
   "metadata": {},
   "outputs": [
    {
     "name": "stdout",
     "output_type": "stream",
     "text": [
      "int32\n",
      "int64\n",
      "float64\n"
     ]
    }
   ],
   "source": [
    "int32_a = np.array([2, 23, 4], dtype = np.int)\n",
    "int64_a = np.array([2, 23, 4], dtype = np.int64)\n",
    "float_a = np.array([2, 23, 4], dtype = np.float)\n",
    "print(int32_a.dtype)\n",
    "print(int64_a.dtype)\n",
    "print(float_a.dtype)"
   ]
  },
  {
   "cell_type": "markdown",
   "metadata": {},
   "source": [
    "## 基础运算"
   ]
  },
  {
   "cell_type": "code",
   "execution_count": 49,
   "metadata": {},
   "outputs": [
    {
     "name": "stdout",
     "output_type": "stream",
     "text": [
      "[10 20 30 40] [0 1 2 3]\n",
      "[10 21 32 43]\n",
      "[10 19 28 37]\n",
      "[0 2 4 6]\n",
      "[-5.44021111  9.12945251 -9.88031624  7.4511316 ]\n"
     ]
    }
   ],
   "source": [
    "a = np.array([10, 20, 30, 40])\n",
    "b = np.arange(4)\n",
    "print(a, b)\n",
    "print( a + b)\n",
    "print( a - b)\n",
    "c = b * 2\n",
    "print(c)\n",
    "d = 10*np.sin(a)\n",
    "print(d)"
   ]
  },
  {
   "cell_type": "markdown",
   "metadata": {},
   "source": [
    "### 矩阵元素与固定值比较（返回布尔值）"
   ]
  },
  {
   "cell_type": "code",
   "execution_count": 56,
   "metadata": {},
   "outputs": [
    {
     "name": "stdout",
     "output_type": "stream",
     "text": [
      "[ True  True False  True False False]\n",
      "0.5\n"
     ]
    }
   ],
   "source": [
    "x = np.array([1, 2, 3, 2, 4, 5])\n",
    "bool_x = x < 3\n",
    "print(bool_x)\n",
    "#根据布尔0/1的特征可通过mean算平均数间接计算矩阵x中小于3的个数占比\n",
    "ratio = bool_x.mean()\n",
    "print(ratio)"
   ]
  },
  {
   "cell_type": "markdown",
   "metadata": {},
   "source": [
    "### 矩阵的数学运算"
   ]
  },
  {
   "cell_type": "code",
   "execution_count": 60,
   "metadata": {},
   "outputs": [
    {
     "name": "stdout",
     "output_type": "stream",
     "text": [
      "[[1 1]\n",
      " [0 1]] \n",
      " [[0 1]\n",
      " [2 3]]\n"
     ]
    }
   ],
   "source": [
    "met_a = np.array([[1, 1],\n",
    "                 [0, 1]])\n",
    "met_b = np.arange(4).reshape(2,2)\n",
    "print(met_a,'\\n', met_b)"
   ]
  },
  {
   "cell_type": "markdown",
   "metadata": {},
   "source": [
    "### 矩阵乘法"
   ]
  },
  {
   "cell_type": "code",
   "execution_count": 61,
   "metadata": {},
   "outputs": [
    {
     "name": "stdout",
     "output_type": "stream",
     "text": [
      "[[2 4]\n",
      " [2 3]]\n"
     ]
    }
   ],
   "source": [
    "met_c = np.dot(met_a, met_b)\n",
    "print(met_c)"
   ]
  },
  {
   "cell_type": "markdown",
   "metadata": {},
   "source": [
    "### 矩阵中元素总和/最大元素/最小元素"
   ]
  },
  {
   "cell_type": "code",
   "execution_count": 56,
   "metadata": {},
   "outputs": [
    {
     "name": "stdout",
     "output_type": "stream",
     "text": [
      "[[0.91449287 0.37559296 0.56495425 0.20452983]\n",
      " [0.01577424 0.24597939 0.55966043 0.25781305]]\n",
      "3.138797024935735\n",
      "0.9144928731156913\n",
      "0.015774239730741213\n",
      "[0.93026711 0.62157235 1.12461468 0.46234288]\n",
      "[0.91449287 0.55966043]\n"
     ]
    }
   ],
   "source": [
    "random_x = np.random.random((2,4))\n",
    "print(random_x)\n",
    "print(np.sum(random_x))#元素总和\n",
    "print(np.max(random_x))#最大元素\n",
    "print(np.min(random_x))#最小元素\n",
    "print(np.sum(random_x,axis=0))#每列总和\n",
    "print(np.max(random_x,axis=1))#每行最小值"
   ]
  },
  {
   "cell_type": "markdown",
   "metadata": {},
   "source": [
    "### 查找最小值和最大值的索引、平均值、中位数、累加、累差"
   ]
  },
  {
   "cell_type": "code",
   "execution_count": 21,
   "metadata": {},
   "outputs": [
    {
     "name": "stdout",
     "output_type": "stream",
     "text": [
      "[[ 2  3  4  5]\n",
      " [ 6  7  8  9]\n",
      " [10 11 12 13]]\n",
      "[[ 2  3  4  5]\n",
      " [ 6  7  8  9]\n",
      " [10 11 12 13]]\n",
      "0 11\n",
      "7.5\n",
      "[6. 7. 8. 9.]\n",
      "[ 3.5  7.5 11.5]\n",
      "7.5\n",
      "7.5\n",
      "7.5\n",
      "[ 2  5  9 14 20 27 35 44 54 65 77 90]\n",
      "[[1 1 1]\n",
      " [1 1 1]\n",
      " [1 1 1]]\n"
     ]
    }
   ],
   "source": [
    "A = np.arange(2, 14).reshape((3, 4))\n",
    "print(A)\n",
    "#最小值的索引\n",
    "min_index = np.argmin(A)\n",
    "#最大值的索引\n",
    "max_index = np.argmax(A)\n",
    "print(A)\n",
    "print(min_index, max_index)\n",
    "#平均值\n",
    "print(np.mean(A))\n",
    "print(np.mean(A, axis=0))#每列的平均值\n",
    "print(np.mean(A, axis=1))#每行的平均值\n",
    "print(np.average(A))\n",
    "print(A.mean())\n",
    "#中位数\n",
    "print(np.median(A))\n",
    "#输出累计数组结果\n",
    "print(np.cumsum(A))\n",
    "#累差\n",
    "print(np.diff(A))"
   ]
  },
  {
   "cell_type": "markdown",
   "metadata": {},
   "source": [
    "### 数组逐行排序、转置、指定矩阵元素上下限"
   ]
  },
  {
   "cell_type": "code",
   "execution_count": 19,
   "metadata": {},
   "outputs": [
    {
     "name": "stdout",
     "output_type": "stream",
     "text": [
      "[[9 8 7]\n",
      " [6 5 4]\n",
      " [3 2 1]]\n",
      "[[7 8 9]\n",
      " [4 5 6]\n",
      " [1 2 3]]\n",
      "[[9 6 3]\n",
      " [8 5 2]\n",
      " [7 4 1]]\n",
      "[[9 8 7]\n",
      " [6 5 5]\n",
      " [5 5 5]]\n"
     ]
    }
   ],
   "source": [
    "B = np.array([[9, 8, 7],\n",
    "              [6, 5, 4],\n",
    "              [3, 2, 1]])\n",
    "print(B)\n",
    "#逐行排序\n",
    "print(np.sort(B))\n",
    "#转置\n",
    "print(B.T)\n",
    "#指定矩阵元素上下限\n",
    "print(np.clip(B, 5, 9))#即矩阵中小于5的元素均置为5，大于9的元素均置为9"
   ]
  },
  {
   "cell_type": "markdown",
   "metadata": {},
   "source": [
    "## 索引"
   ]
  },
  {
   "cell_type": "code",
   "execution_count": 41,
   "metadata": {},
   "outputs": [
    {
     "name": "stdout",
     "output_type": "stream",
     "text": [
      "[ 3  4  5  6  7  8  9 10 11 12 13 14]\n",
      "6\n",
      "[[ 3  4  5  6]\n",
      " [ 7  8  9 10]\n",
      " [11 12 13 14]]\n",
      "14\n",
      "[ 6 10 14]\n",
      "[10 14]\n",
      "3\n",
      "4\n",
      "5\n",
      "6\n",
      "7\n",
      "8\n",
      "9\n",
      "10\n",
      "11\n",
      "12\n",
      "13\n",
      "14\n",
      "[ 3  4  5  6  7  8  9 10 11 12 13 14]\n",
      "3\n",
      "4\n",
      "5\n",
      "6\n",
      "7\n",
      "8\n",
      "9\n",
      "10\n",
      "11\n",
      "12\n",
      "13\n",
      "14\n"
     ]
    }
   ],
   "source": [
    "#一维数组\n",
    "C = np.arange(3, 15)\n",
    "print(C)\n",
    "#下标索引值，从0开始\n",
    "print(C[3])\n",
    "\n",
    "#二维数组\n",
    "D = np.arange(3, 15).reshape(3, 4)\n",
    "print(D)\n",
    "#索引第2行第3列的值,从0行0列开始\n",
    "print(D[2, 3])\n",
    "#索引第3列的值\n",
    "print(D[:, 3])\n",
    "#索引第1第2行第3列的值\n",
    "print(D[1:3, 3])\n",
    "# 迭代输出一维数组和二维数组的值\n",
    "for item in C:\n",
    "    print(item)\n",
    "#.flat将多维数组转为一维数组\n",
    "print(D.flatten())\n",
    "for items in D.flat:\n",
    "    print(items)"
   ]
  },
  {
   "cell_type": "markdown",
   "metadata": {},
   "source": [
    "## 合并"
   ]
  },
  {
   "cell_type": "code",
   "execution_count": 52,
   "metadata": {},
   "outputs": [
    {
     "name": "stdout",
     "output_type": "stream",
     "text": [
      "[[1 1 1]\n",
      " [2 2 2]]\n",
      "[1 1 1 2 2 2]\n",
      "[1 1 1 2 2 2 1 1 1 1 1 1]\n"
     ]
    }
   ],
   "source": [
    "F = np.array([1, 1, 1])\n",
    "G = np.array([2, 2, 2])\n",
    "print(np.vstack((F, G)))\n",
    "print(np.hstack((F, G)))\n",
    "print(np.concatenate((F, G, F, F), axis=0))#横向合并"
   ]
  },
  {
   "cell_type": "markdown",
   "metadata": {},
   "source": [
    "## 分割"
   ]
  },
  {
   "cell_type": "code",
   "execution_count": 60,
   "metadata": {},
   "outputs": [
    {
     "name": "stdout",
     "output_type": "stream",
     "text": [
      "[[ 0  1  2  3]\n",
      " [ 4  5  6  7]\n",
      " [ 8  9 10 11]]\n",
      "[array([[0, 1],\n",
      "       [4, 5],\n",
      "       [8, 9]]), array([[ 2,  3],\n",
      "       [ 6,  7],\n",
      "       [10, 11]])]\n",
      "[array([[0, 1, 2, 3]]), array([[4, 5, 6, 7]]), array([[ 8,  9, 10, 11]])]\n",
      "[array([[0, 1, 2, 3]]), array([[4, 5, 6, 7]]), array([[ 8,  9, 10, 11]])]\n",
      "[array([[0, 1],\n",
      "       [4, 5],\n",
      "       [8, 9]]), array([[ 2,  3],\n",
      "       [ 6,  7],\n",
      "       [10, 11]])]\n"
     ]
    }
   ],
   "source": [
    "m = np.arange(12).reshape(3, 4)\n",
    "print(m)\n",
    "print(np.split(m, 2, axis=1))\n",
    "print(np.split(m, 3, axis=0))\n",
    "#横向分割\n",
    "print(np.vsplit(m, 3))\n",
    "#纵向分割\n",
    "print(np.hsplit(m, 2))"
   ]
  },
  {
   "cell_type": "code",
   "execution_count": 71,
   "metadata": {},
   "outputs": [
    {
     "name": "stdout",
     "output_type": "stream",
     "text": [
      "[ True  True  True]\n"
     ]
    },
    {
     "data": {
      "text/plain": [
       "True"
      ]
     },
     "execution_count": 71,
     "metadata": {},
     "output_type": "execute_result"
    }
   ],
   "source": [
    "X = np.array([1,2,3])\n",
    "Y = X\n",
    "print(X == Y)\n",
    "1 == (X is Y)"
   ]
  },
  {
   "cell_type": "markdown",
   "metadata": {},
   "source": [
    "## 深浅拷贝"
   ]
  },
  {
   "cell_type": "code",
   "execution_count": 75,
   "metadata": {},
   "outputs": [
    {
     "name": "stdout",
     "output_type": "stream",
     "text": [
      "[9 2 3]\n",
      "[1 2 3] [9 2 3]\n"
     ]
    }
   ],
   "source": [
    "#浅拷贝\n",
    "N = np.array([1, 2 ,3])\n",
    "P = N\n",
    "P[0] = 9\n",
    "print(N)\n",
    "#深拷贝\n",
    "N = np.array([1, 2 ,3])\n",
    "P = N.copy()\n",
    "P[0] = 9\n",
    "print(N, P)"
   ]
  },
  {
   "cell_type": "code",
   "execution_count": null,
   "metadata": {},
   "outputs": [],
   "source": []
  }
 ],
 "metadata": {
  "kernelspec": {
   "display_name": "Python 3",
   "language": "python",
   "name": "python3"
  },
  "language_info": {
   "codemirror_mode": {
    "name": "ipython",
    "version": 3
   },
   "file_extension": ".py",
   "mimetype": "text/x-python",
   "name": "python",
   "nbconvert_exporter": "python",
   "pygments_lexer": "ipython3",
   "version": "3.7.2"
  }
 },
 "nbformat": 4,
 "nbformat_minor": 2
}
